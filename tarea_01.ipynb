{
 "cells": [
  {
   "cell_type": "markdown",
   "metadata": {},
   "source": [
    "# Simulación Estocástica\n",
    "## Tarea N01\n",
    "\n",
    "Alonso Ogueda Oliva"
   ]
  },
  {
   "cell_type": "markdown",
   "metadata": {},
   "source": [
    "### Item 1\n",
    "Escriba una rutina para resolver el sistema de ecuaciones lineales $\\mathbf{Ax} = \\mathbf{b}$ con:\n",
    "\n",
    "$$\\mathbf{A} = \\begin{pmatrix}\n",
    "1 & 1 & 1 \\\\\n",
    "2 & 3 & 1 \\\\\n",
    "1 & -1 & -1 \\\\\n",
    "\\end{pmatrix}\n",
    ",  \\qquad\n",
    "\\mathbf{b} = \\begin{pmatrix}\n",
    "4 \\\\\n",
    "9 \\\\\n",
    "-1\n",
    "\\end{pmatrix}\n",
    "$$\n",
    "usando la **descomposición LU** y **refinamiento iterativo.**"
   ]
  },
  {
   "cell_type": "code",
   "execution_count": 1,
   "metadata": {},
   "outputs": [],
   "source": [
    "import numpy as np"
   ]
  },
  {
   "cell_type": "code",
   "execution_count": 2,
   "metadata": {},
   "outputs": [],
   "source": [
    "A = np.array([\n",
    "    [1., 1., 1.],\n",
    "    [2., 3., 1.],\n",
    "    [1., -1., -1.]\n",
    "])\n",
    "\n",
    "b = np.array([4, 9, -1])"
   ]
  },
  {
   "cell_type": "code",
   "execution_count": 3,
   "metadata": {},
   "outputs": [
    {
     "data": {
      "text/plain": [
       "-4.000000000000001"
      ]
     },
     "execution_count": 3,
     "metadata": {},
     "output_type": "execute_result"
    }
   ],
   "source": [
    "np.linalg.det(A)"
   ]
  },
  {
   "cell_type": "markdown",
   "metadata": {},
   "source": [
    "Se define el sistema lineal \n",
    "$$ \\mathbf{Ax} = \\mathbf{LUx} = b$$"
   ]
  },
  {
   "cell_type": "markdown",
   "metadata": {},
   "source": [
    "Resolviendo el sistema triangular $\\mathbf{Lz} = b$ se obtiene que "
   ]
  },
  {
   "cell_type": "code",
   "execution_count": 4,
   "metadata": {},
   "outputs": [],
   "source": [
    "def lu_decomposition(A):\n",
    "    a = A.copy().astype(float)\n",
    "    n = a.shape[0]\n",
    "    for k in range(n):\n",
    "        if a[k, k] == 0:\n",
    "            raise ValueError\n",
    "        a[k + 1: n, k] = a[k + 1: n, k] / a[k, k]\n",
    "        a[k + 1: n, k + 1: n] = a[k + 1: n, k + 1: n] - np.outer(a[k + 1: n, k], a[k, k + 1: n])\n",
    "    l = np.tril(a, -1)\n",
    "    u = np.triu(a)\n",
    "    np.fill_diagonal(l, 1)\n",
    "    return l, u"
   ]
  },
  {
   "cell_type": "code",
   "execution_count": 5,
   "metadata": {},
   "outputs": [],
   "source": [
    "L, U = lu_decomposition(A)"
   ]
  },
  {
   "cell_type": "code",
   "execution_count": 6,
   "metadata": {},
   "outputs": [
    {
     "data": {
      "text/plain": [
       "True"
      ]
     },
     "execution_count": 6,
     "metadata": {},
     "output_type": "execute_result"
    }
   ],
   "source": [
    "np.array_equal(A, L @ U)"
   ]
  },
  {
   "cell_type": "code",
   "execution_count": 7,
   "metadata": {},
   "outputs": [],
   "source": [
    "def back_substitution(T, b):\n",
    "    T = T.astype(float)\n",
    "    n = T.shape[0]\n",
    "    x = np.zeros(n)\n",
    "    x[n - 1] = b[n - 1] / T[n - 1, n - 1]\n",
    "    for i in range(n - 2, -1, -1):\n",
    "        x[i] = (b[i] - np.inner(T[i, i:], x[i:])) / T[i, i]\n",
    "    return x"
   ]
  },
  {
   "cell_type": "code",
   "execution_count": 8,
   "metadata": {},
   "outputs": [],
   "source": [
    "def forward_substitution(T, b):\n",
    "    T = T.astype(float)\n",
    "    n = T.shape[0]\n",
    "    x = np.zeros(n)\n",
    "    x[0] = b[0] / T[0, 0]\n",
    "    for i in range(1, n):\n",
    "        x[i] = (b[i] - np.inner(T[i, :i], x[:i])) / T[i, i]\n",
    "    return x"
   ]
  },
  {
   "cell_type": "code",
   "execution_count": 21,
   "metadata": {},
   "outputs": [],
   "source": [
    "def lu_solve(A, b):\n",
    "    L, U = lu_decomposition(A)\n",
    "    x = back_substitution(U, forward_substitution(L, b))\n",
    "    return x"
   ]
  },
  {
   "cell_type": "code",
   "execution_count": 22,
   "metadata": {},
   "outputs": [
    {
     "name": "stdout",
     "output_type": "stream",
     "text": [
      "[1.5  1.75 0.75]\n"
     ]
    }
   ],
   "source": [
    "x_0 = lu_solve(A, b)\n",
    "print(x_0)"
   ]
  },
  {
   "cell_type": "code",
   "execution_count": 33,
   "metadata": {},
   "outputs": [],
   "source": [
    "def iterative_refinement(A, b, x_0, k_max=100, tol=10e-6):\n",
    "    A = A.astype(np.float_)\n",
    "    b = b.astype(np.float_)\n",
    "    x_k = x_0.astype(np.float_)\n",
    "    k = 0\n",
    "    converge = False\n",
    "    while not converge:\n",
    "        r_k = b - A @ x_k\n",
    "        delta_k = lu_solve(A, r_k)\n",
    "        x_k += delta_k\n",
    "        if la.norm(delta_k, np.inf) <= tol * la.norm(x_k, np.inf):\n",
    "            return x_k\n",
    "        elif k < k_max:\n",
    "            k += 1\n",
    "        else:\n",
    "            print(\"Se superó la cantidad de iteraciones.\")"
   ]
  },
  {
   "cell_type": "code",
   "execution_count": 34,
   "metadata": {},
   "outputs": [
    {
     "data": {
      "text/plain": [
       "array([1.5 , 1.75, 0.75])"
      ]
     },
     "execution_count": 34,
     "metadata": {},
     "output_type": "execute_result"
    }
   ],
   "source": [
    "iterative_refinement(A, b, x_0, k_max=100, tol=10e-6)"
   ]
  },
  {
   "cell_type": "markdown",
   "metadata": {},
   "source": [
    "### Item 2\n",
    "Implementar el operador Sweep usando su lenguaje de programación favorito."
   ]
  },
  {
   "cell_type": "code",
   "execution_count": 78,
   "metadata": {},
   "outputs": [],
   "source": [
    "def sweep(A, k):\n",
    "    if (len(set(A.shape)) != 1) or (A[k, k] == 0):\n",
    "        raise ValueError\n",
    "    B = A.copy()\n",
    "    B[k, k] = 1. / A[k, k]\n",
    "    B[:, k] = -1 * A[:, k] /  A[k, k]\n",
    "    B[k, :] = A[k, :] /  A[k, k]\n",
    "    mask = [i for i in range(A.shape[0]) if i != k]\n",
    "    B[np.ix_(mask, mask)] = A[np.ix_(mask, mask)] -  np.outer(A[np.ix_(mask, [k])], A[np.ix_([k], mask)]) / A[k, k]\n",
    "    return B"
   ]
  },
  {
   "cell_type": "code",
   "execution_count": 88,
   "metadata": {},
   "outputs": [
    {
     "name": "stdout",
     "output_type": "stream",
     "text": [
      "0\n",
      "1\n",
      "2\n"
     ]
    }
   ],
   "source": [
    "sA = A.copy()\n",
    "for i in range(A.shape[0]):\n",
    "    print(i)\n",
    "    sA = sweep(sA, i)"
   ]
  },
  {
   "cell_type": "code",
   "execution_count": 95,
   "metadata": {},
   "outputs": [],
   "source": [
    "a = A.copy()"
   ]
  },
  {
   "cell_type": "code",
   "execution_count": 97,
   "metadata": {},
   "outputs": [],
   "source": [
    "a[:, k] = -1 * A[:, k] / 100"
   ]
  },
  {
   "cell_type": "code",
   "execution_count": 98,
   "metadata": {},
   "outputs": [
    {
     "data": {
      "text/plain": [
       "array([[-0.01,  1.  ,  1.  ],\n",
       "       [-0.02,  3.  ,  1.  ],\n",
       "       [-0.01, -1.  , -1.  ]])"
      ]
     },
     "execution_count": 98,
     "metadata": {},
     "output_type": "execute_result"
    }
   ],
   "source": [
    "a"
   ]
  },
  {
   "cell_type": "code",
   "execution_count": 93,
   "metadata": {},
   "outputs": [
    {
     "data": {
      "text/plain": [
       "array([[ 1.00000000e+00, -1.11022302e-16,  0.00000000e+00],\n",
       "       [ 0.00000000e+00,  1.00000000e+00,  0.00000000e+00],\n",
       "       [ 4.44089210e-16, -1.11022302e-16,  1.00000000e+00]])"
      ]
     },
     "execution_count": 93,
     "metadata": {},
     "output_type": "execute_result"
    }
   ],
   "source": [
    "A @ la.inv(A)"
   ]
  },
  {
   "cell_type": "code",
   "execution_count": 92,
   "metadata": {},
   "outputs": [
    {
     "data": {
      "text/plain": [
       "array([[ 1.  ,  0.  ,  1.25],\n",
       "       [ 0.  ,  1.  ,  1.25],\n",
       "       [ 0.  ,  0.  , -0.25]])"
      ]
     },
     "execution_count": 92,
     "metadata": {},
     "output_type": "execute_result"
    }
   ],
   "source": [
    "A @ sA"
   ]
  },
  {
   "cell_type": "code",
   "execution_count": 94,
   "metadata": {},
   "outputs": [
    {
     "data": {
      "text/plain": [
       "array([[3, 4],\n",
       "       [6, 8]])"
      ]
     },
     "execution_count": 94,
     "metadata": {},
     "output_type": "execute_result"
    }
   ],
   "source": [
    "np.outer([1, 2], [3, 4])"
   ]
  },
  {
   "cell_type": "code",
   "execution_count": 66,
   "metadata": {},
   "outputs": [
    {
     "data": {
      "text/plain": [
       "[1, 2]"
      ]
     },
     "execution_count": 66,
     "metadata": {},
     "output_type": "execute_result"
    }
   ],
   "source": [
    "k = 0\n",
    "mask = [x for x in range(A.shape[0]) if x != k]\n",
    "mask"
   ]
  },
  {
   "cell_type": "code",
   "execution_count": 67,
   "metadata": {},
   "outputs": [
    {
     "data": {
      "text/plain": [
       "array([[ 3.,  1.],\n",
       "       [-1., -1.]])"
      ]
     },
     "execution_count": 67,
     "metadata": {},
     "output_type": "execute_result"
    }
   ],
   "source": [
    "A[np.ix_(mask, mask)]"
   ]
  },
  {
   "cell_type": "code",
   "execution_count": 69,
   "metadata": {},
   "outputs": [
    {
     "data": {
      "text/plain": [
       "array([[2.],\n",
       "       [1.]])"
      ]
     },
     "execution_count": 69,
     "metadata": {},
     "output_type": "execute_result"
    }
   ],
   "source": [
    "A[np.ix_(mask, [k])]"
   ]
  },
  {
   "cell_type": "code",
   "execution_count": 70,
   "metadata": {},
   "outputs": [
    {
     "data": {
      "text/plain": [
       "array([[1., 1.]])"
      ]
     },
     "execution_count": 70,
     "metadata": {},
     "output_type": "execute_result"
    }
   ],
   "source": [
    "A[np.ix_([k], mask)]"
   ]
  },
  {
   "cell_type": "code",
   "execution_count": 73,
   "metadata": {},
   "outputs": [
    {
     "data": {
      "text/plain": [
       "array([[ 1., -1.],\n",
       "       [-2., -2.]])"
      ]
     },
     "execution_count": 73,
     "metadata": {},
     "output_type": "execute_result"
    }
   ],
   "source": [
    "A[np.ix_(mask, mask)] -  np.outer(A[np.ix_(mask, [k])], A[np.ix_([k], mask)]) / A[k, k]"
   ]
  },
  {
   "cell_type": "code",
   "execution_count": 47,
   "metadata": {},
   "outputs": [
    {
     "data": {
      "text/plain": [
       "array([-0.33333333, -1.        ,  0.33333333])"
      ]
     },
     "execution_count": 47,
     "metadata": {},
     "output_type": "execute_result"
    }
   ],
   "source": [
    "-1 * A[:, k] /  A[k, k]"
   ]
  },
  {
   "cell_type": "markdown",
   "metadata": {},
   "source": [
    "### Item 3\n",
    "Pruebe su rutina para obtener la inversa de una matriz usando el operador\n",
    "Sweep con la siguiente matriz:\n",
    "\n",
    "$$\\mathbf{B} = \\begin{pmatrix}\n",
    "30 & 16 & 46 \\\\\n",
    "16 & 10 & 26 \\\\\n",
    "46 & 26 & 72 \\\\\n",
    "\\end{pmatrix}\n",
    "$$"
   ]
  },
  {
   "cell_type": "markdown",
   "metadata": {},
   "source": [
    "### Item 4\n",
    "Verifique que $\\mathbf{B}$ es matriz semidefinida positiva usando la factorización Cholesky. ¿En cuál etapa del algoritmo el procedimiento falla?"
   ]
  }
 ],
 "metadata": {
  "kernelspec": {
   "display_name": "Python 3",
   "language": "python",
   "name": "python3"
  },
  "language_info": {
   "codemirror_mode": {
    "name": "ipython",
    "version": 3
   },
   "file_extension": ".py",
   "mimetype": "text/x-python",
   "name": "python",
   "nbconvert_exporter": "python",
   "pygments_lexer": "ipython3",
   "version": "3.7.3"
  }
 },
 "nbformat": 4,
 "nbformat_minor": 2
}
