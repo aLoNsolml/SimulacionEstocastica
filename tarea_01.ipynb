{
 "cells": [
  {
   "cell_type": "markdown",
   "metadata": {},
   "source": [
    "# Simulación Estocástica\n",
    "## Tarea N01\n",
    "\n",
    "Alonso Ogueda Oliva"
   ]
  },
  {
   "cell_type": "markdown",
   "metadata": {},
   "source": [
    "Escriba una rutina para resolver el sistema de ecuaciones lineales $\\mathbf{Ax} = \\mathbf{b}$ con:\n",
    "\n",
    "$$\\mathbf{A} = \\begin{pmatrix}\n",
    "1 & 1 & 1 \\\\\n",
    "2 & 3 & 1 \\\\\n",
    "1 & -1 & -1 \\\\\n",
    "\\end{pmatrix}\n",
    ",  \\qquad\n",
    "\\mathbf{b} = \\begin{pmatrix}\n",
    "4 \\\\\n",
    "9 \\\\\n",
    "-1\n",
    "\\end{pmatrix}\n",
    "$$\n",
    "usando la **descomposición LU** y **refinamiento iterativo.**"
   ]
  },
  {
   "cell_type": "code",
   "execution_count": 35,
   "metadata": {},
   "outputs": [],
   "source": [
    "import numpy as np\n",
    "import scipy.linalg as la"
   ]
  },
  {
   "cell_type": "code",
   "execution_count": 10,
   "metadata": {},
   "outputs": [],
   "source": [
    "A = np.array([\n",
    "    [1., 1., 1.],\n",
    "    [2., 3., 1.],\n",
    "    [1., -1., -1.]\n",
    "])\n",
    "\n",
    "b = np.array([4, 9, -1])"
   ]
  },
  {
   "cell_type": "code",
   "execution_count": 8,
   "metadata": {},
   "outputs": [
    {
     "data": {
      "text/plain": [
       "-4.000000000000001"
      ]
     },
     "execution_count": 8,
     "metadata": {},
     "output_type": "execute_result"
    }
   ],
   "source": [
    "np.linalg.det(A)"
   ]
  },
  {
   "cell_type": "markdown",
   "metadata": {},
   "source": [
    "Se define el sistema lineal \n",
    "$$ \\mathbf{Ax} = \\mathbf{LUx} = b$$"
   ]
  },
  {
   "cell_type": "markdown",
   "metadata": {},
   "source": [
    "Resolviendo el sistema triangular $\\mathbf{Lz} = b$ se obtiene que "
   ]
  },
  {
   "cell_type": "code",
   "execution_count": 51,
   "metadata": {},
   "outputs": [],
   "source": [
    "(P, L, U) = la.lu(A)"
   ]
  },
  {
   "cell_type": "code",
   "execution_count": 47,
   "metadata": {},
   "outputs": [
    {
     "data": {
      "text/plain": [
       "array([[0., 0., 1.],\n",
       "       [1., 0., 0.],\n",
       "       [0., 1., 0.]])"
      ]
     },
     "execution_count": 47,
     "metadata": {},
     "output_type": "execute_result"
    }
   ],
   "source": [
    "P"
   ]
  },
  {
   "cell_type": "code",
   "execution_count": 52,
   "metadata": {},
   "outputs": [
    {
     "data": {
      "text/plain": [
       "array([[1. , 0. , 0. ],\n",
       "       [0.5, 1. , 0. ],\n",
       "       [0.5, 0.2, 1. ]])"
      ]
     },
     "execution_count": 52,
     "metadata": {},
     "output_type": "execute_result"
    }
   ],
   "source": [
    "L"
   ]
  },
  {
   "cell_type": "code",
   "execution_count": 53,
   "metadata": {},
   "outputs": [
    {
     "data": {
      "text/plain": [
       "array([[ 2. ,  3. ,  1. ],\n",
       "       [ 0. , -2.5, -1.5],\n",
       "       [ 0. ,  0. ,  0.8]])"
      ]
     },
     "execution_count": 53,
     "metadata": {},
     "output_type": "execute_result"
    }
   ],
   "source": [
    "U"
   ]
  },
  {
   "cell_type": "code",
   "execution_count": 48,
   "metadata": {},
   "outputs": [
    {
     "data": {
      "text/plain": [
       "array([[ 1.,  1.,  1.],\n",
       "       [ 2.,  3.,  1.],\n",
       "       [ 1., -1., -1.]])"
      ]
     },
     "execution_count": 48,
     "metadata": {},
     "output_type": "execute_result"
    }
   ],
   "source": [
    "P @ L @ U "
   ]
  },
  {
   "cell_type": "code",
   "execution_count": 32,
   "metadata": {},
   "outputs": [],
   "source": [
    "def backward_substitution(T, b):\n",
    "    T = T.astype(float)\n",
    "    n = T.shape[0]\n",
    "    x = np.zeros(n)\n",
    "    x[n - 1] = b[n - 1] / T[n - 1, n - 1]\n",
    "    for i in range(n - 2, -1, -1):\n",
    "        x[i] = (b[i] - T[i, i + 1] * x[i + 1]) / T[i, i]\n",
    "    return x"
   ]
  },
  {
   "cell_type": "code",
   "execution_count": 33,
   "metadata": {},
   "outputs": [
    {
     "data": {
      "text/plain": [
       "array([1.33333333, 2.66666667, 1.        ])"
      ]
     },
     "execution_count": 33,
     "metadata": {},
     "output_type": "execute_result"
    }
   ],
   "source": [
    "backward_substitution(A, b)"
   ]
  },
  {
   "cell_type": "markdown",
   "metadata": {},
   "source": [
    "I Implementar el operador Sweep usando su lenguaje de programaci´on favorito."
   ]
  },
  {
   "cell_type": "markdown",
   "metadata": {},
   "source": [
    "I Pruebe su rutina para obtener la inversa de una matriz usando el operador\n",
    "Sweep con la siguiente matriz:\n",
    "B = 0 @30 16 46 16 10 26 46 26 721 A :"
   ]
  },
  {
   "cell_type": "markdown",
   "metadata": {},
   "source": [
    "I Verifique que B es matriz semidefinida positiva usando la factorizaci´on\n",
    "Cholesky. >En cu´al etapa del algoritmo el procedimiento falla?"
   ]
  }
 ],
 "metadata": {
  "kernelspec": {
   "display_name": "Python 3",
   "language": "python",
   "name": "python3"
  },
  "language_info": {
   "codemirror_mode": {
    "name": "ipython",
    "version": 3
   },
   "file_extension": ".py",
   "mimetype": "text/x-python",
   "name": "python",
   "nbconvert_exporter": "python",
   "pygments_lexer": "ipython3",
   "version": "3.7.3"
  }
 },
 "nbformat": 4,
 "nbformat_minor": 2
}
