{
 "cells": [
  {
   "cell_type": "markdown",
   "metadata": {},
   "source": [
    "# Hierarchical Binominal Model: Rat Tumor Example"
   ]
  },
  {
   "cell_type": "code",
   "execution_count": 1,
   "metadata": {},
   "outputs": [
    {
     "name": "stderr",
     "output_type": "stream",
     "text": [
      "WARNING (theano.configdefaults): install mkl with `conda install mkl-service`: No module named 'mkl'\n"
     ]
    }
   ],
   "source": [
    "%matplotlib inline\n",
    "import pymc3 as pm\n",
    "import numpy as np\n",
    "import matplotlib.pyplot as plt\n",
    "import seaborn as sns\n",
    "import pandas as pd\n",
    "# import pymc3.distributions.transforms as tr\n",
    "# import theano.tensor as tt\n",
    "from scipy.special import gammaln\n",
    "\n",
    "plt.style.use('seaborn-darkgrid')\n",
    "# print('Running on PyMC3 v{}'.format(pm.__version__))"
   ]
  },
  {
   "cell_type": "markdown",
   "metadata": {},
   "source": [
    "This short tutorial demonstrates how to use pymc3 to do inference for the rat tumour example found in chapter 5 of *Bayesian Data Analysis 3rd Edition*.  Readers should already be familliar with the pymc3 api.\n",
    "\n",
    "Suppose we are interested in the probability that a lab rat develops endometrial stromal polyps.  We have data from 71 previously performed trials and would like to use this data to perform inference.\n",
    "\n",
    "The authors of BDA3 choose to model this problem heirarchically.  Let $y_i$ be the number of lab rats which develop endometrial stromal polyps out of a possible $n_i$.  We model the number rodents which develop endometrial stromal polyps as binomial\n",
    "\n",
    "$$ y_i \\sim \\operatorname{Bin}(\\theta_i;n_i)$$\n",
    "\n",
    "allowing the probability of developing an endometrial stromal polyp (i.e. $\\theta_i$) to be drawn from some population distribution.  For analytical tractability, we assume that $\\theta_i$ has Beta distribution\n",
    "\n",
    "$$ \\theta_i \\sim \\operatorname{Beta}(\\alpha, \\beta)$$\n",
    "\n",
    "We are free to specify a prior distribution for $\\alpha, \\beta$.  We choose a weakly informative prior distribution to reflect our ignorance about the true values of $\\alpha, \\beta$.  The authors of BDA3 choose the joint hyperprior for $\\alpha, \\beta$ to be\n",
    "\n",
    "$$ p(\\alpha, \\beta) \\propto (\\alpha + \\beta) ^{-5/2}$$\n",
    "\n",
    "For more information, please see *Bayesian Data Analysis 3rd Edition* pg. 110."
   ]
  },
  {
   "cell_type": "markdown",
   "metadata": {},
   "source": [
    "## A Directly Computed Solution\n",
    "\n",
    "Our joint posterior distribution is\n",
    "\n",
    "$$p(\\alpha,\\beta,\\theta \\lvert y) \n",
    "\\propto \n",
    "p(\\alpha, \\beta) \n",
    "p(\\theta \\lvert \\alpha,\\beta)\n",
    "p(y \\lvert \\theta)$$\n",
    "\n",
    "which can be rewritten in such a way so as to obtain the marginal posterior distribution for $\\alpha$ and $\\beta$, namely\n",
    "\n",
    "$$ p(\\alpha, \\beta, \\lvert y) = \n",
    "p(\\alpha, \\beta) \n",
    "\\prod_{i = 1}^{N} \\dfrac{\\Gamma(\\alpha+\\beta)}{\\Gamma(\\alpha)\\Gamma(\\beta)}\n",
    "\\dfrac{\\Gamma(\\alpha+y_i)\\Gamma(\\beta+n_i - y_i)}{\\Gamma(\\alpha+\\beta+n_i)}$$\n",
    "\n",
    "\n",
    "See BDA3 pg. 110 for a more information on the deriving the marginal posterior distribution. With a little determination, we can plot the marginal posterior and estimate the means of $\\alpha$ and $\\beta$ without having to resort to MCMC.  We will see, however, that this requires considerable effort.\n",
    "\n",
    "The authors of BDA3 choose to plot the surfce under the paramterization $(\\log(\\alpha/\\beta), \\log(\\alpha+\\beta))$.  We do so as well.  Through the remainder of the example let $x = \\log(\\alpha/\\beta)$ and $z = \\log(\\alpha+\\beta)$.\n",
    "\n"
   ]
  },
  {
   "cell_type": "code",
   "execution_count": 2,
   "metadata": {},
   "outputs": [],
   "source": [
    "# rat data (BDA3, p. 102)\n",
    "y = np.array([\n",
    "    0,  0,  0,  0,  0,  0,  0,  0,  0,  0,  0,  0,  0,  0,  1,  1,  1,\n",
    "    1,  1,  1,  1,  1,  2,  2,  2,  2,  2,  2,  2,  2,  2,  1,  5,  2,\n",
    "    5,  3,  2,  7,  7,  3,  3,  2,  9, 10,  4,  4,  4,  4,  4,  4,  4,\n",
    "    10,  4,  4,  4,  5, 11, 12,  5,  5,  6,  5,  6,  6,  6,  6, 16, 15,\n",
    "    15,  9,  4\n",
    "])\n",
    "n = np.array([\n",
    "    20, 20, 20, 20, 20, 20, 20, 19, 19, 19, 19, 18, 18, 17, 20, 20, 20,\n",
    "    20, 19, 19, 18, 18, 25, 24, 23, 20, 20, 20, 20, 20, 20, 10, 49, 19,\n",
    "    46, 27, 17, 49, 47, 20, 20, 13, 48, 50, 20, 20, 20, 20, 20, 20, 20,\n",
    "    48, 19, 19, 19, 22, 46, 49, 20, 20, 23, 19, 22, 20, 20, 20, 52, 46,\n",
    "    47, 24, 14\n",
    "])\n",
    "\n",
    "N = len(n)"
   ]
  },
  {
   "cell_type": "code",
   "execution_count": 3,
   "metadata": {},
   "outputs": [
    {
     "data": {
      "text/html": [
       "<div>\n",
       "<style scoped>\n",
       "    .dataframe tbody tr th:only-of-type {\n",
       "        vertical-align: middle;\n",
       "    }\n",
       "\n",
       "    .dataframe tbody tr th {\n",
       "        vertical-align: top;\n",
       "    }\n",
       "\n",
       "    .dataframe thead th {\n",
       "        text-align: right;\n",
       "    }\n",
       "</style>\n",
       "<table border=\"1\" class=\"dataframe\">\n",
       "  <thead>\n",
       "    <tr style=\"text-align: right;\">\n",
       "      <th></th>\n",
       "      <th>nm_tumors</th>\n",
       "      <th>nm_rats</th>\n",
       "    </tr>\n",
       "  </thead>\n",
       "  <tbody>\n",
       "    <tr>\n",
       "      <th>0</th>\n",
       "      <td>0</td>\n",
       "      <td>20</td>\n",
       "    </tr>\n",
       "    <tr>\n",
       "      <th>1</th>\n",
       "      <td>0</td>\n",
       "      <td>20</td>\n",
       "    </tr>\n",
       "    <tr>\n",
       "      <th>2</th>\n",
       "      <td>0</td>\n",
       "      <td>20</td>\n",
       "    </tr>\n",
       "    <tr>\n",
       "      <th>3</th>\n",
       "      <td>0</td>\n",
       "      <td>20</td>\n",
       "    </tr>\n",
       "    <tr>\n",
       "      <th>4</th>\n",
       "      <td>0</td>\n",
       "      <td>20</td>\n",
       "    </tr>\n",
       "  </tbody>\n",
       "</table>\n",
       "</div>"
      ],
      "text/plain": [
       "   nm_tumors  nm_rats\n",
       "0          0       20\n",
       "1          0       20\n",
       "2          0       20\n",
       "3          0       20\n",
       "4          0       20"
      ]
     },
     "execution_count": 3,
     "metadata": {},
     "output_type": "execute_result"
    }
   ],
   "source": [
    "data = pd.DataFrame({\"nm_tumors\" : y, \"nm_rats\": n})\n",
    "data.head()"
   ]
  },
  {
   "cell_type": "code",
   "execution_count": 5,
   "metadata": {},
   "outputs": [
    {
     "name": "stdout",
     "output_type": "stream",
     "text": [
      "Only using moments in beta distribution, alpha: 1.356149391031933 and beta : 8.615057891320788 means.\n"
     ]
    }
   ],
   "source": [
    "theta_mean = data.iloc[:-1, :].eval(\"nm_tumors / nm_rats\").mean()\n",
    "theta_var = data.iloc[:-1, :].eval(\"nm_tumors / nm_rats\").var()\n",
    "\n",
    "a_plus_b = (theta_mean * (1 - theta_mean)) / theta_var - 1\n",
    "\n",
    "alpha = theta_mean * a_plus_b\n",
    "beta = (1 - theta_mean) * a_plus_b\n",
    "print(f\"Only using moments in beta distribution, alpha: {alpha} and beta : {beta} means.\")"
   ]
  },
  {
   "cell_type": "code",
   "execution_count": 6,
   "metadata": {},
   "outputs": [],
   "source": [
    "# Create space for the parameterization in which we wish to plot\n",
    "X, Z = np.meshgrid(np.arange(-2.3, -1.3, 0.01), np.arange(1, 5, 0.01))\n",
    "param_space = np.c_[X.ravel(), Z.ravel()]\n",
    "df = pd.DataFrame(param_space, columns=['X', 'Z'])"
   ]
  },
  {
   "cell_type": "markdown",
   "metadata": {},
   "source": [
    "First we have a dataframe with $x$ and $z$ values. If $x = \\log(\\alpha/\\beta)$ and $z = \\log(\\alpha+\\beta)$, so $\\beta = e^z \\, / \\, (1 + e^x)$ and $\\alpha = e^{x + z} \\, / \\, (1 + e^x)$"
   ]
  },
  {
   "cell_type": "markdown",
   "metadata": {},
   "source": [
    "To create the plot, we first compute the logarithm of the density function $(5.8)$ with prior density $(5.9)$, multiplying by the Jacobian to obtain the density $p(\\log(\\alpha / \\beta), \\log (\\alpha + \\beta) \\, \\vert \\, y)$"
   ]
  },
  {
   "cell_type": "markdown",
   "metadata": {},
   "source": [
    "$$ \\log p(\\alpha, \\beta, \\lvert y) = \n",
    "\\log \\left[\n",
    "    (\\alpha +  \\beta)^{-5/2}\n",
    "    \\prod_{i = 1}^{N} \\dfrac{\\Gamma(\\alpha+\\beta)}{\\Gamma(\\alpha)\\Gamma(\\beta)}\n",
    "    \\dfrac{\\Gamma(\\alpha+y_i)\\Gamma(\\beta+n_i - y_i)}{\\Gamma(\\alpha+\\beta+n_i)}\n",
    "  \\right] \n",
    "    $$"
   ]
  },
  {
   "cell_type": "code",
   "execution_count": 8,
   "metadata": {},
   "outputs": [],
   "source": [
    "def trans_to_beta(x, z):\n",
    "\n",
    "    return np.exp(z) / (np.exp(x) + 1)\n",
    "\n",
    "\n",
    "def trans_to_alpha(x, z):\n",
    "\n",
    "    return np.exp(x) * trans_to_beta(x, z)\n",
    "\n",
    "\n",
    "# Compute on log scale because products turn to sums\n",
    "def log_likelihood(alpha, beta, y, n):\n",
    "    \n",
    "    LL = 0\n",
    "    # Summing over data\n",
    "    for Y, N in zip(y, n):\n",
    "        LL += (\n",
    "            gammaln(alpha + beta)\n",
    "            - gammaln(alpha)\n",
    "            - gammaln(beta)\n",
    "            + gammaln(alpha + Y)\n",
    "            + gammaln(beta + N - Y)\n",
    "            - gammaln(alpha + beta + N)\n",
    "        )\n",
    "\n",
    "    return LL\n",
    "\n",
    "\n",
    "def log_prior(alpha, beta):\n",
    "\n",
    "    return - 2.5 * np.log(alpha + beta)"
   ]
  },
  {
   "cell_type": "code",
   "execution_count": 9,
   "metadata": {},
   "outputs": [
    {
     "data": {
      "text/html": [
       "<div>\n",
       "<style scoped>\n",
       "    .dataframe tbody tr th:only-of-type {\n",
       "        vertical-align: middle;\n",
       "    }\n",
       "\n",
       "    .dataframe tbody tr th {\n",
       "        vertical-align: top;\n",
       "    }\n",
       "\n",
       "    .dataframe thead th {\n",
       "        text-align: right;\n",
       "    }\n",
       "</style>\n",
       "<table border=\"1\" class=\"dataframe\">\n",
       "  <thead>\n",
       "    <tr style=\"text-align: right;\">\n",
       "      <th></th>\n",
       "      <th>X</th>\n",
       "      <th>Z</th>\n",
       "      <th>alpha</th>\n",
       "      <th>beta</th>\n",
       "      <th>log_posterior</th>\n",
       "      <th>log_jacobian</th>\n",
       "      <th>transformed</th>\n",
       "      <th>exp_trans</th>\n",
       "      <th>normed_exp_trans</th>\n",
       "    </tr>\n",
       "  </thead>\n",
       "  <tbody>\n",
       "    <tr>\n",
       "      <th>0</th>\n",
       "      <td>-2.30</td>\n",
       "      <td>1.0</td>\n",
       "      <td>0.247698</td>\n",
       "      <td>2.470584</td>\n",
       "      <td>-764.886923</td>\n",
       "      <td>-0.491091</td>\n",
       "      <td>-765.378014</td>\n",
       "      <td>1.979035e-14</td>\n",
       "      <td>8.775273e-18</td>\n",
       "    </tr>\n",
       "    <tr>\n",
       "      <th>1</th>\n",
       "      <td>-2.29</td>\n",
       "      <td>1.0</td>\n",
       "      <td>0.249958</td>\n",
       "      <td>2.468323</td>\n",
       "      <td>-764.571996</td>\n",
       "      <td>-0.482922</td>\n",
       "      <td>-765.054918</td>\n",
       "      <td>2.733834e-14</td>\n",
       "      <td>1.212214e-17</td>\n",
       "    </tr>\n",
       "    <tr>\n",
       "      <th>2</th>\n",
       "      <td>-2.28</td>\n",
       "      <td>1.0</td>\n",
       "      <td>0.252237</td>\n",
       "      <td>2.466044</td>\n",
       "      <td>-764.259599</td>\n",
       "      <td>-0.474769</td>\n",
       "      <td>-764.734368</td>\n",
       "      <td>3.766909e-14</td>\n",
       "      <td>1.670292e-17</td>\n",
       "    </tr>\n",
       "    <tr>\n",
       "      <th>3</th>\n",
       "      <td>-2.27</td>\n",
       "      <td>1.0</td>\n",
       "      <td>0.254535</td>\n",
       "      <td>2.463747</td>\n",
       "      <td>-763.949753</td>\n",
       "      <td>-0.466633</td>\n",
       "      <td>-764.416387</td>\n",
       "      <td>5.177053e-14</td>\n",
       "      <td>2.295566e-17</td>\n",
       "    </tr>\n",
       "    <tr>\n",
       "      <th>4</th>\n",
       "      <td>-2.26</td>\n",
       "      <td>1.0</td>\n",
       "      <td>0.256851</td>\n",
       "      <td>2.461430</td>\n",
       "      <td>-763.642483</td>\n",
       "      <td>-0.458515</td>\n",
       "      <td>-764.100998</td>\n",
       "      <td>7.096663e-14</td>\n",
       "      <td>3.146744e-17</td>\n",
       "    </tr>\n",
       "  </tbody>\n",
       "</table>\n",
       "</div>"
      ],
      "text/plain": [
       "      X    Z     alpha      beta  log_posterior  log_jacobian  transformed  \\\n",
       "0 -2.30  1.0  0.247698  2.470584    -764.886923     -0.491091  -765.378014   \n",
       "1 -2.29  1.0  0.249958  2.468323    -764.571996     -0.482922  -765.054918   \n",
       "2 -2.28  1.0  0.252237  2.466044    -764.259599     -0.474769  -764.734368   \n",
       "3 -2.27  1.0  0.254535  2.463747    -763.949753     -0.466633  -764.416387   \n",
       "4 -2.26  1.0  0.256851  2.461430    -763.642483     -0.458515  -764.100998   \n",
       "\n",
       "      exp_trans  normed_exp_trans  \n",
       "0  1.979035e-14      8.775273e-18  \n",
       "1  2.733834e-14      1.212214e-17  \n",
       "2  3.766909e-14      1.670292e-17  \n",
       "3  5.177053e-14      2.295566e-17  \n",
       "4  7.096663e-14      3.146744e-17  "
      ]
     },
     "execution_count": 9,
     "metadata": {},
     "output_type": "execute_result"
    }
   ],
   "source": [
    "df = df.assign(\n",
    "    alpha=lambda x: trans_to_alpha(x[\"X\"], x[\"Z\"]),  # Transform the space back to alpha beta to compute the log-posterior\n",
    "    beta=lambda x: trans_to_beta(x[\"X\"], x[\"Z\"]), \n",
    "    log_posterior=lambda x: log_prior(x[\"alpha\"], x[\"beta\"]) + log_likelihood(x[\"alpha\"], x[\"beta\"], y, n),\n",
    "    log_jacobian=lambda x: np.log(x[\"alpha\"]) + np.log(x[\"beta\"]),\n",
    "    transformed=lambda x: x[\"log_posterior\"] + x[\"log_jacobian\"],\n",
    "    exp_trans=lambda x: np.exp(x[\"transformed\"] - x[\"transformed\"].max()),\n",
    "    normed_exp_trans=lambda x: x[\"exp_trans\"] / x[\"exp_trans\"].sum()  # This will ensure the density is normalized\n",
    ")\n",
    "df.head()"
   ]
  },
  {
   "cell_type": "code",
   "execution_count": 10,
   "metadata": {},
   "outputs": [],
   "source": [
    "surface = df.set_index(['X', 'Z']).exp_trans.unstack().values.T"
   ]
  },
  {
   "cell_type": "code",
   "execution_count": 11,
   "metadata": {},
   "outputs": [
    {
     "data": {
      "image/png": "[encoded data removed]",
      "text/plain": [
       "<Figure size 576x576 with 1 Axes>"
      ]
     },
     "metadata": {
      "needs_background": "light"
     },
     "output_type": "display_data"
    }
   ],
   "source": [
    "fig, ax = plt.subplots(figsize=(8, 8))\n",
    "ax.contourf(X, Z, surface)\n",
    "ax.set_xlabel(r'$\\log(\\alpha/\\beta)$', fontsize=16)\n",
    "ax.set_ylabel(r'$\\log(\\alpha+\\beta)$', fontsize=16)\n",
    "\n",
    "ix_z, ix_x = np.unravel_index(np.argmax(surface, axis=None), surface.shape)\n",
    "ax.scatter([X[0, ix_x]], [Z[ix_z, 0]], color='red')\n",
    "\n",
    "text = r\"$({a},{b})$\".format(a=np.round(\n",
    "    X[0, ix_x], 2), b=np.round(Z[ix_z, 0], 2))\n",
    "\n",
    "ax.annotate(text,\n",
    "            xy=(X[0, ix_x], Z[ix_z, 0]),\n",
    "            xytext=(-1.6, 3.5),\n",
    "            ha='center',\n",
    "            fontsize=16,\n",
    "            color='black',\n",
    "            arrowprops={'facecolor':'white'}\n",
    "            );"
   ]
  },
  {
   "cell_type": "code",
   "execution_count": 12,
   "metadata": {},
   "outputs": [],
   "source": [
    "x_hat=np.round(X[0, ix_x], 2)\n",
    "z_hat=np.round(Z[ix_z, 0], 2)"
   ]
  },
  {
   "cell_type": "code",
   "execution_count": 13,
   "metadata": {},
   "outputs": [],
   "source": [
    "alpha_hat = trans_to_alpha(x_hat, z_hat)\n",
    "beta_hat = trans_to_beta(x_hat, z_hat)"
   ]
  },
  {
   "cell_type": "code",
   "execution_count": 14,
   "metadata": {},
   "outputs": [
    {
     "name": "stdout",
     "output_type": "stream",
     "text": [
      "2.2157651362287765\n",
      "13.271219960111162\n"
     ]
    }
   ],
   "source": [
    "print(alpha_hat)\n",
    "print(beta_hat)"
   ]
  },
  {
   "cell_type": "markdown",
   "metadata": {},
   "source": [
    "The plot shows that the posterior is roughly symetric about the mode (-1.79, 2.74).  This corresponds to $\\alpha = 2.21$ and $\\beta = 13.27$. We can compute the marginal means as the authors of BDA3 do, using\n",
    "\n",
    "$$ \\operatorname{E}(\\alpha \\lvert y) \\text{   is estimated by   }\n",
    "\\sum_{x,z} \\alpha p(x,z\\lvert y) $$\n",
    "\n",
    "$$ \\operatorname{E}(\\beta \\lvert y) \\text{   is estimated by   }\n",
    "\\sum_{x,z} \\beta p(x,z\\lvert y) $$"
   ]
  },
  {
   "cell_type": "code",
   "execution_count": 15,
   "metadata": {},
   "outputs": [
    {
     "data": {
      "text/plain": [
       "2.403"
      ]
     },
     "execution_count": 15,
     "metadata": {},
     "output_type": "execute_result"
    }
   ],
   "source": [
    "#Estimated mean of alpha\n",
    "(df.alpha*df.normed_exp_trans).sum().round(3)"
   ]
  },
  {
   "cell_type": "code",
   "execution_count": 16,
   "metadata": {},
   "outputs": [
    {
     "data": {
      "text/plain": [
       "14.319"
      ]
     },
     "execution_count": 16,
     "metadata": {},
     "output_type": "execute_result"
    }
   ],
   "source": [
    "#Estimated mean of beta\n",
    "(df.beta*df.normed_exp_trans).sum().round(3)"
   ]
  },
  {
   "cell_type": "code",
   "execution_count": null,
   "metadata": {},
   "outputs": [],
   "source": []
  }
 ],
 "metadata": {
  "kernelspec": {
   "display_name": "Python 3",
   "language": "python",
   "name": "python3"
  },
  "language_info": {
   "codemirror_mode": {
    "name": "ipython",
    "version": 3
   },
   "file_extension": ".py",
   "mimetype": "text/x-python",
   "name": "python",
   "nbconvert_exporter": "python",
   "pygments_lexer": "ipython3",
   "version": "3.7.3"
  }
 },
 "nbformat": 4,
 "nbformat_minor": 2
}
