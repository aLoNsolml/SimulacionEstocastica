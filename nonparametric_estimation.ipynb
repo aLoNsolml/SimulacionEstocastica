{
 "cells": [
  {
   "cell_type": "markdown",
   "metadata": {
    "Collapsed": "false"
   },
   "source": [
    "# Nonparametric Estimation of Threshold Exceedance Probability"
   ]
  },
  {
   "cell_type": "code",
   "execution_count": 16,
   "metadata": {
    "Collapsed": "false"
   },
   "outputs": [],
   "source": [
    "import numpy as np\n",
    "import pandas as pd\n",
    "\n",
    "from scipy.special import gamma"
   ]
  },
  {
   "cell_type": "markdown",
   "metadata": {
    "Collapsed": "false"
   },
   "source": [
    "Assume that $\\left\\{ X(s): s \\in D \\subset \\mathbb R^d \\right\\}$. For fixed $x_0 \\in \\mathbb R$  we define the exceedance probability at location $s$ as \n",
    "\n",
    "$$\n",
    "P_{x_0} (s) = P\\left[ X(s) \\geq x_0 \\right]\n",
    "$$\n",
    "\n",
    "we define an estimator as\n",
    "\n",
    "$$\n",
    "\\hat P_{x_0} (s) = \\frac{\n",
    "\\sum_{i=1}^n K \\left(\\frac{s_i - s}{h}\\right) \\pmb 1_{ \\left\\{X(s) \\geq x_0\\right\\}} \n",
    "}{\n",
    "\\sum_{i=1}^n K \\left(\\frac{s_i - s}{h}\\right)\n",
    "}\n",
    "$$\n",
    "\n",
    "where $h$ represents a bandwidth parameter and $K: \\mathbb R^d \\to \\mathbb R$ is a kernel function."
   ]
  },
  {
   "cell_type": "markdown",
   "metadata": {
    "Collapsed": "false"
   },
   "source": [
    "Example:\n",
    "\n",
    "Epanechnikov Kernel:\n",
    "\n",
    "$$\n",
    "K(u) = \\frac{3}{4} \\left( 1 - u^2 \\right), \\qquad |u| \\leq 1\n",
    "$$"
   ]
  },
  {
   "cell_type": "code",
   "execution_count": 23,
   "metadata": {
    "Collapsed": "false"
   },
   "outputs": [],
   "source": [
    "d = 2\n",
    "epanechnikov_cte_2d = gamma(2 + d / 2) / (np.pi ** (d / 2))"
   ]
  },
  {
   "cell_type": "code",
   "execution_count": 24,
   "metadata": {
    "Collapsed": "false"
   },
   "outputs": [],
   "source": [
    "def epanechnikov(u, cte=epanechnikov_cte_2d):\n",
    "    u_norm = np.linalg.norm(u)\n",
    "    if u_norm <= 1:\n",
    "        return epanechnikov_cte_2d * (1 - u_norm ** 2) \n",
    "    else:\n",
    "        return 0.0"
   ]
  },
  {
   "cell_type": "code",
   "execution_count": 25,
   "metadata": {
    "Collapsed": "false"
   },
   "outputs": [
    {
     "name": "stdout",
     "output_type": "stream",
     "text": [
      "0.477464829275686\n",
      "0.0\n",
      "0.0\n"
     ]
    }
   ],
   "source": [
    "print(epanechnikov(0.5))\n",
    "print(epanechnikov(2))\n",
    "print(epanechnikov(np.array([0.0, 0.1, 1., 2.])))"
   ]
  },
  {
   "cell_type": "code",
   "execution_count": 34,
   "metadata": {
    "Collapsed": "false"
   },
   "outputs": [],
   "source": [
    "x = np.array(\n",
    "    [\n",
    "        [0.1, 0.2],\n",
    "        [1.0, 2.0],\n",
    "        [0.0, 0.0]\n",
    "    ]\n",
    ")"
   ]
  },
  {
   "cell_type": "code",
   "execution_count": 40,
   "metadata": {
    "Collapsed": "false"
   },
   "outputs": [
    {
     "data": {
      "text/plain": [
       "array([0.60478878, 0.        , 0.63661977])"
      ]
     },
     "execution_count": 40,
     "metadata": {},
     "output_type": "execute_result"
    }
   ],
   "source": [
    "np.apply_along_axis(epanechnikov, 1, x) "
   ]
  },
  {
   "cell_type": "markdown",
   "metadata": {
    "Collapsed": "false"
   },
   "source": [
    "Create a mesh"
   ]
  },
  {
   "cell_type": "code",
   "execution_count": 51,
   "metadata": {
    "Collapsed": "false"
   },
   "outputs": [
    {
     "data": {
      "text/plain": [
       "array([[0. , 0.2, 0.4, 0.6, 0.8, 1. ],\n",
       "       [0. , 0.2, 0.4, 0.6, 0.8, 1. ],\n",
       "       [0. , 0.2, 0.4, 0.6, 0.8, 1. ],\n",
       "       [0. , 0.2, 0.4, 0.6, 0.8, 1. ],\n",
       "       [0. , 0.2, 0.4, 0.6, 0.8, 1. ],\n",
       "       [0. , 0.2, 0.4, 0.6, 0.8, 1. ]])"
      ]
     },
     "execution_count": 51,
     "metadata": {},
     "output_type": "execute_result"
    }
   ],
   "source": [
    "x_max = 1\n",
    "y_max = 1\n",
    "nx, ny = (6, 6)\n",
    "x = np.linspace(0, x_max, nx)\n",
    "y = np.linspace(0, y_max, ny)\n",
    "xv, yv = np.meshgrid(x, y)\n",
    "xv"
   ]
  },
  {
   "cell_type": "code",
   "execution_count": 58,
   "metadata": {
    "Collapsed": "false"
   },
   "outputs": [
    {
     "data": {
      "text/plain": [
       "array([[0. , 0. , 0. , 0. , 0. , 0. ],\n",
       "       [0.2, 0.2, 0.2, 0.2, 0.2, 0.2],\n",
       "       [0.4, 0.4, 0.4, 0.4, 0.4, 0.4],\n",
       "       [0.6, 0.6, 0.6, 0.6, 0.6, 0.6],\n",
       "       [0.8, 0.8, 0.8, 0.8, 0.8, 0.8],\n",
       "       [1. , 1. , 1. , 1. , 1. , 1. ]])"
      ]
     },
     "execution_count": 58,
     "metadata": {},
     "output_type": "execute_result"
    }
   ],
   "source": [
    "yv"
   ]
  },
  {
   "cell_type": "code",
   "execution_count": 75,
   "metadata": {
    "Collapsed": "false"
   },
   "outputs": [
    {
     "data": {
      "text/plain": [
       "(36, 2)"
      ]
     },
     "execution_count": 75,
     "metadata": {},
     "output_type": "execute_result"
    }
   ],
   "source": [
    "S = np.stack((xv.ravel(), yv.ravel()), axis=1)\n",
    "S.shape"
   ]
  },
  {
   "cell_type": "code",
   "execution_count": 77,
   "metadata": {
    "Collapsed": "false"
   },
   "outputs": [],
   "source": [
    "s_est = np.array([0.2, 0.4]) "
   ]
  },
  {
   "cell_type": "code",
   "execution_count": 78,
   "metadata": {
    "Collapsed": "false"
   },
   "outputs": [
    {
     "data": {
      "text/plain": [
       "(36, 2)"
      ]
     },
     "execution_count": 78,
     "metadata": {},
     "output_type": "execute_result"
    }
   ],
   "source": [
    "(S - s_est).shape"
   ]
  },
  {
   "cell_type": "code",
   "execution_count": 79,
   "metadata": {
    "Collapsed": "false"
   },
   "outputs": [],
   "source": [
    "h = 0.01"
   ]
  },
  {
   "cell_type": "code",
   "execution_count": 83,
   "metadata": {
    "Collapsed": "false"
   },
   "outputs": [
    {
     "data": {
      "text/plain": [
       "array([0.        , 0.        , 0.        , 0.        , 0.        ,\n",
       "       0.        , 0.        , 0.        , 0.        , 0.        ,\n",
       "       0.        , 0.        , 0.        , 0.63661977, 0.        ,\n",
       "       0.        , 0.        , 0.        , 0.        , 0.        ,\n",
       "       0.        , 0.        , 0.        , 0.        , 0.        ,\n",
       "       0.        , 0.        , 0.        , 0.        , 0.        ,\n",
       "       0.        , 0.        , 0.        , 0.        , 0.        ,\n",
       "       0.        ])"
      ]
     },
     "execution_count": 83,
     "metadata": {},
     "output_type": "execute_result"
    }
   ],
   "source": [
    "np.apply_along_axis(epanechnikov, 1, (S - s_est) / h) "
   ]
  }
 ],
 "metadata": {
  "kernelspec": {
   "display_name": "Python [conda env:ds]",
   "language": "python",
   "name": "conda-env-ds-py"
  },
  "language_info": {
   "codemirror_mode": {
    "name": "ipython",
    "version": 3
   },
   "file_extension": ".py",
   "mimetype": "text/x-python",
   "name": "python",
   "nbconvert_exporter": "python",
   "pygments_lexer": "ipython3",
   "version": "3.7.6"
  }
 },
 "nbformat": 4,
 "nbformat_minor": 4
}
