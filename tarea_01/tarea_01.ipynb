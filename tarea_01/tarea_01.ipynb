{
 "cells": [
  {
   "cell_type": "markdown",
   "metadata": {
    "colab_type": "text",
    "id": "BGOZ74kHPBQx"
   },
   "source": [
    "# Simulación Estocástica\n",
    "## Tarea Nº 01\n",
    "\n",
    "Alonso Ogueda Oliva"
   ]
  },
  {
   "cell_type": "markdown",
   "metadata": {
    "colab_type": "text",
    "id": "DqyTpvOqPBQ6"
   },
   "source": [
    "### Item 1\n",
    "Escriba una rutina para resolver el sistema de ecuaciones lineales $\\mathbf{Ax} = \\mathbf{b}$ con:\n",
    "\n",
    "$$\\mathbf{A} = \\begin{pmatrix}\n",
    "1 & 1 & 1 \\\\\n",
    "2 & 3 & 1 \\\\\n",
    "1 & -1 & -1 \\\\\n",
    "\\end{pmatrix}\n",
    ",  \\qquad\n",
    "\\mathbf{b} = \\begin{pmatrix}\n",
    "4 \\\\\n",
    "9 \\\\\n",
    "-1\n",
    "\\end{pmatrix}\n",
    "$$\n",
    "usando la **descomposición LU** y **refinamiento iterativo.**"
   ]
  },
  {
   "cell_type": "code",
   "execution_count": 1,
   "metadata": {
    "colab": {},
    "colab_type": "code",
    "id": "FEHeHFeBPBQ-"
   },
   "outputs": [],
   "source": [
    "import numpy as np\n",
    "from scipy import linalg as la"
   ]
  },
  {
   "cell_type": "code",
   "execution_count": 2,
   "metadata": {
    "colab": {},
    "colab_type": "code",
    "id": "pSGY3DtgPBRD"
   },
   "outputs": [],
   "source": [
    "A = np.array([\n",
    "    [1., 1., 1.],\n",
    "    [2., 3., 1.],\n",
    "    [1., -1., -1.]\n",
    "])\n",
    "\n",
    "b = np.array([4, 9, -1])"
   ]
  },
  {
   "cell_type": "code",
   "execution_count": 3,
   "metadata": {
    "colab": {
     "base_uri": "https://localhost:8080/",
     "height": 35
    },
    "colab_type": "code",
    "id": "cyJG6cPcPBRP",
    "outputId": "ed3c285a-b271-4cc0-ae86-91580edf7e9b"
   },
   "outputs": [
    {
     "data": {
      "text/plain": [
       "-4.000000000000001"
      ]
     },
     "execution_count": 3,
     "metadata": {},
     "output_type": "execute_result"
    }
   ],
   "source": [
    "np.linalg.det(A)"
   ]
  },
  {
   "cell_type": "code",
   "execution_count": 4,
   "metadata": {
    "colab": {},
    "colab_type": "code",
    "id": "cnEtpmWOPBRf"
   },
   "outputs": [],
   "source": [
    "def lu_decomposition(A):\n",
    "    a = A.copy().astype(float)\n",
    "    n = a.shape[0]\n",
    "    for k in range(n):\n",
    "        if a[k, k] == 0:\n",
    "            raise ValueError\n",
    "        a[k + 1: n, k] = a[k + 1: n, k] / a[k, k]\n",
    "        a[k + 1: n, k + 1: n] = a[k + 1: n, k + 1: n] - np.outer(a[k + 1: n, k], a[k, k + 1: n])\n",
    "    l = np.tril(a, -1)\n",
    "    u = np.triu(a)\n",
    "    np.fill_diagonal(l, 1)\n",
    "    return l, u"
   ]
  },
  {
   "cell_type": "code",
   "execution_count": 5,
   "metadata": {
    "colab": {},
    "colab_type": "code",
    "id": "I10w2X-cPBRi"
   },
   "outputs": [],
   "source": [
    "L, U = lu_decomposition(A)"
   ]
  },
  {
   "cell_type": "markdown",
   "metadata": {},
   "source": [
    "Se verifica que la descomposición es correcta"
   ]
  },
  {
   "cell_type": "code",
   "execution_count": 6,
   "metadata": {
    "colab": {
     "base_uri": "https://localhost:8080/",
     "height": 35
    },
    "colab_type": "code",
    "id": "2ZUek3HJPBRl",
    "outputId": "a900bae7-d557-4e89-fc10-68b02975f490"
   },
   "outputs": [
    {
     "data": {
      "text/plain": [
       "True"
      ]
     },
     "execution_count": 6,
     "metadata": {},
     "output_type": "execute_result"
    }
   ],
   "source": [
    "np.allclose(A, L @ U)"
   ]
  },
  {
   "cell_type": "code",
   "execution_count": 7,
   "metadata": {
    "colab": {},
    "colab_type": "code",
    "id": "RiY7OktlPBRs"
   },
   "outputs": [],
   "source": [
    "def back_substitution(T, b):\n",
    "    T = T.astype(float)\n",
    "    n = T.shape[0]\n",
    "    x = np.zeros(n)\n",
    "    x[n - 1] = b[n - 1] / T[n - 1, n - 1]\n",
    "    for i in range(n - 2, -1, -1):\n",
    "        x[i] = (b[i] - np.inner(T[i, i:], x[i:])) / T[i, i]\n",
    "    return x"
   ]
  },
  {
   "cell_type": "code",
   "execution_count": 8,
   "metadata": {
    "colab": {},
    "colab_type": "code",
    "id": "aMQcqfszPBRv"
   },
   "outputs": [],
   "source": [
    "def forward_substitution(T, b):\n",
    "    T = T.astype(float)\n",
    "    n = T.shape[0]\n",
    "    x = np.zeros(n)\n",
    "    x[0] = b[0] / T[0, 0]\n",
    "    for i in range(1, n):\n",
    "        x[i] = (b[i] - np.inner(T[i, :i], x[:i])) / T[i, i]\n",
    "    return x"
   ]
  },
  {
   "cell_type": "code",
   "execution_count": 9,
   "metadata": {
    "colab": {},
    "colab_type": "code",
    "id": "Hlo3dx1gPBRy"
   },
   "outputs": [],
   "source": [
    "def lu_solve(A, b):\n",
    "    L, U = lu_decomposition(A)\n",
    "    x = back_substitution(U, forward_substitution(L, b))\n",
    "    return x"
   ]
  },
  {
   "cell_type": "code",
   "execution_count": 10,
   "metadata": {
    "colab": {
     "base_uri": "https://localhost:8080/",
     "height": 35
    },
    "colab_type": "code",
    "id": "08Dy5-YKPBR5",
    "outputId": "04b108bb-34d8-46f1-f2ee-936bbfe4bd95"
   },
   "outputs": [
    {
     "name": "stdout",
     "output_type": "stream",
     "text": [
      "[1.5  1.75 0.75]\n"
     ]
    }
   ],
   "source": [
    "x_0 = lu_solve(A, b)\n",
    "print(x_0)"
   ]
  },
  {
   "cell_type": "code",
   "execution_count": 11,
   "metadata": {
    "colab": {},
    "colab_type": "code",
    "id": "NJZBhYGzPBSA"
   },
   "outputs": [],
   "source": [
    "def iterative_refinement(A, b, x_0, k_max=100, tol=10e-6):\n",
    "    A = A.astype(np.float_)\n",
    "    b = b.astype(np.float_)\n",
    "    x_k = x_0.astype(np.float_)\n",
    "    k = 0\n",
    "    converge = False\n",
    "    while not converge:\n",
    "        r_k = b - A @ x_k\n",
    "        delta_k = lu_solve(A, r_k)\n",
    "        x_k += delta_k\n",
    "        if la.norm(delta_k, np.inf) <= tol * la.norm(x_k, np.inf):\n",
    "            return x_k\n",
    "        elif k < k_max:\n",
    "            k += 1\n",
    "        else:\n",
    "            print(\"Se superó la cantidad de iteraciones.\")"
   ]
  },
  {
   "cell_type": "code",
   "execution_count": 12,
   "metadata": {
    "colab": {
     "base_uri": "https://localhost:8080/",
     "height": 35
    },
    "colab_type": "code",
    "id": "YwyR84HRPBSE",
    "outputId": "b8006f91-51bf-45ef-f0d9-781349673764"
   },
   "outputs": [
    {
     "data": {
      "text/plain": [
       "array([1.5 , 1.75, 0.75])"
      ]
     },
     "execution_count": 12,
     "metadata": {},
     "output_type": "execute_result"
    }
   ],
   "source": [
    "iterative_refinement(A, b, x_0, k_max=100, tol=10e-20)"
   ]
  },
  {
   "cell_type": "markdown",
   "metadata": {},
   "source": [
    "Es posible notar que antes y después del refinamiento la solución no cambia"
   ]
  },
  {
   "cell_type": "code",
   "execution_count": 13,
   "metadata": {},
   "outputs": [],
   "source": [
    "def lu_and_iterative_refinement(A, b, k_max=100, tol=10e-6):\n",
    "    x_0 = lu_solve(A, b)\n",
    "    x = iterative_refinement(A, b, x_0, k_max, tol)\n",
    "    return x"
   ]
  },
  {
   "cell_type": "code",
   "execution_count": 14,
   "metadata": {},
   "outputs": [
    {
     "data": {
      "text/plain": [
       "array([1.5 , 1.75, 0.75])"
      ]
     },
     "execution_count": 14,
     "metadata": {},
     "output_type": "execute_result"
    }
   ],
   "source": [
    "lu_and_iterative_refinement(A, b, k_max=100, tol=10e-6)"
   ]
  },
  {
   "cell_type": "markdown",
   "metadata": {
    "colab_type": "text",
    "id": "D_ThKSl-PBSR"
   },
   "source": [
    "### Item 2\n",
    "Implementar el operador Sweep usando su lenguaje de programación favorito."
   ]
  },
  {
   "cell_type": "code",
   "execution_count": 15,
   "metadata": {
    "colab": {},
    "colab_type": "code",
    "id": "BywPwPO_PBSS"
   },
   "outputs": [],
   "source": [
    "def sweep(A, k):\n",
    "    if (len(set(A.shape)) != 1) or (A[k, k] == 0):\n",
    "        raise ValueError(\"Not a square array\")\n",
    "    B = A - np.outer(A[:, k], A[k, :]) / A[k, k]\n",
    "    B[:, k] = -1 * A[:, k] /  A[k, k]\n",
    "    B[k, :] = A[k, :] /  A[k, k]\n",
    "    B[k, k] = 1. / A[k, k]\n",
    "    return B"
   ]
  },
  {
   "cell_type": "markdown",
   "metadata": {
    "colab_type": "text",
    "id": "eN48AuGQPBTl"
   },
   "source": [
    "### Item 3\n",
    "Pruebe su rutina para obtener la inversa de una matriz usando el operador\n",
    "Sweep con la siguiente matriz:\n",
    "\n",
    "$$\\mathbf{B} = \\begin{pmatrix}\n",
    "30 & 16 & 46 \\\\\n",
    "16 & 10 & 26 \\\\\n",
    "46 & 26 & 72 \\\\\n",
    "\\end{pmatrix}\n",
    "$$"
   ]
  },
  {
   "cell_type": "code",
   "execution_count": 16,
   "metadata": {
    "colab": {},
    "colab_type": "code",
    "id": "m2NCcVYPPlbE"
   },
   "outputs": [],
   "source": [
    "def sweep_inv(A):\n",
    "    A_inv = A.copy()\n",
    "    for i in range(A.shape[0]):\n",
    "        A_inv = sweep(A_inv, i)\n",
    "        return A_inv"
   ]
  },
  {
   "cell_type": "code",
   "execution_count": 17,
   "metadata": {
    "colab": {},
    "colab_type": "code",
    "id": "NzyVfb8FP4JA"
   },
   "outputs": [
    {
     "name": "stdout",
     "output_type": "stream",
     "text": [
      "[[ 0.03333333  0.53333333  1.53333333]\n",
      " [-0.53333333  1.46666667  1.46666667]\n",
      " [-1.53333333  1.46666667  1.46666667]]\n"
     ]
    }
   ],
   "source": [
    "B = np.array([\n",
    "    [30., 16., 46.],\n",
    "    [16., 10., 26.],\n",
    "    [46., 26., 72.]\n",
    "])\n",
    "print(sweep_inv(B))"
   ]
  },
  {
   "cell_type": "markdown",
   "metadata": {},
   "source": [
    "Note que la matriz anterior no es la inversa de $B$, en efecto:"
   ]
  },
  {
   "cell_type": "code",
   "execution_count": 18,
   "metadata": {
    "colab": {
     "base_uri": "https://localhost:8080/",
     "height": 71
    },
    "colab_type": "code",
    "id": "oLqXt7x6QGUl",
    "outputId": "f056b11e-5930-46c9-a9b3-4f52a5c4dd83"
   },
   "outputs": [
    {
     "data": {
      "text/plain": [
       "array([[ 80.06666667,  45.73333333, 125.8       ],\n",
       "       [ 74.93333333,  44.26666667, 119.2       ],\n",
       "       [ 44.93333333,  28.26666667,  73.2       ]])"
      ]
     },
     "execution_count": 18,
     "metadata": {},
     "output_type": "execute_result"
    }
   ],
   "source": [
    "sweep_inv(B) @ B"
   ]
  },
  {
   "cell_type": "code",
   "execution_count": 19,
   "metadata": {},
   "outputs": [
    {
     "data": {
      "text/plain": [
       "array([[ -78.06666667,  106.93333333,  136.93333333],\n",
       "       [ -44.66666667,   61.33333333,   77.33333333],\n",
       "       [-122.73333333,  168.26666667,  214.26666667]])"
      ]
     },
     "execution_count": 19,
     "metadata": {},
     "output_type": "execute_result"
    }
   ],
   "source": [
    "B @ sweep_inv(B)"
   ]
  },
  {
   "cell_type": "markdown",
   "metadata": {},
   "source": [
    "Lo cual se debe a que $\\mathbf{B}$ es singular!"
   ]
  },
  {
   "cell_type": "code",
   "execution_count": 20,
   "metadata": {
    "colab": {
     "base_uri": "https://localhost:8080/",
     "height": 35
    },
    "colab_type": "code",
    "id": "Ywq3IiU1Qqu0",
    "outputId": "0b57e790-ed15-4a4b-eb30-d00a598596dd"
   },
   "outputs": [
    {
     "data": {
      "text/plain": [
       "0.0"
      ]
     },
     "execution_count": 20,
     "metadata": {},
     "output_type": "execute_result"
    }
   ],
   "source": [
    "la.det(B)"
   ]
  },
  {
   "cell_type": "markdown",
   "metadata": {
    "colab_type": "text",
    "id": "zQkx92UvPBTm"
   },
   "source": [
    "### Item 4\n",
    "Verifique que $\\mathbf{B}$ es matriz semidefinida positiva usando la factorización Cholesky. ¿En cuál etapa del algoritmo el procedimiento falla?"
   ]
  },
  {
   "cell_type": "code",
   "execution_count": 21,
   "metadata": {
    "colab": {},
    "colab_type": "code",
    "id": "CqiMfRwZRdgn"
   },
   "outputs": [],
   "source": [
    "def cholesky_decomposition(A):\n",
    "    n = A.shape[0]\n",
    "    T = np.zeros(A.shape)\n",
    "    T[0, :] = np.concatenate([np.sqrt(A[0, [0]]), A[0, 1:] / np.sqrt(A[0, 0])])\n",
    "    for i in range(1, n):\n",
    "        T[i, i] = np.sqrt(A[i, i] - np.inner(T[:i, i], T[:i, i]))\n",
    "        for j in range(i + 1, n):\n",
    "            T[i, j] = (A[i, j] - np.inner(T[:i, i], T[:i, j])) / T[i, i]\n",
    "    return T"
   ]
  },
  {
   "cell_type": "code",
   "execution_count": 22,
   "metadata": {},
   "outputs": [],
   "source": [
    "G = cholesky_decomposition(B)"
   ]
  },
  {
   "cell_type": "code",
   "execution_count": 23,
   "metadata": {},
   "outputs": [
    {
     "data": {
      "text/plain": [
       "array([[5.47722558, 2.92118697, 8.39841255],\n",
       "       [0.        , 1.21106014, 1.21106014],\n",
       "       [0.        , 0.        , 0.        ]])"
      ]
     },
     "execution_count": 23,
     "metadata": {},
     "output_type": "execute_result"
    }
   ],
   "source": [
    "G"
   ]
  },
  {
   "cell_type": "markdown",
   "metadata": {},
   "source": [
    "Note que aún así se cumple que $\\mathbf{G}^\\top \\mathbf{G} = \\mathbf{B}$."
   ]
  },
  {
   "cell_type": "code",
   "execution_count": 24,
   "metadata": {},
   "outputs": [
    {
     "data": {
      "text/plain": [
       "True"
      ]
     },
     "execution_count": 24,
     "metadata": {},
     "output_type": "execute_result"
    }
   ],
   "source": [
    "np.allclose(B, (G.T @ G))"
   ]
  },
  {
   "cell_type": "markdown",
   "metadata": {},
   "source": [
    "Pero un elemento de la diagonal es no positivo!"
   ]
  },
  {
   "cell_type": "code",
   "execution_count": 25,
   "metadata": {},
   "outputs": [
    {
     "data": {
      "text/plain": [
       "False"
      ]
     },
     "execution_count": 25,
     "metadata": {},
     "output_type": "execute_result"
    }
   ],
   "source": [
    "all(np.diag(G) > 0)"
   ]
  },
  {
   "cell_type": "markdown",
   "metadata": {},
   "source": [
    "Lo anterior puede deberse a un problema de precisión o estabilidad, puesto que la función ya implementada en `scipy` entrega una descomposición con todos los valores no nulos (aunque el último muy cercano a cero)."
   ]
  },
  {
   "cell_type": "code",
   "execution_count": 26,
   "metadata": {},
   "outputs": [
    {
     "data": {
      "text/plain": [
       "array([[5.47722558e+00, 2.92118697e+00, 8.39841255e+00],\n",
       "       [0.00000000e+00, 1.21106014e+00, 1.21106014e+00],\n",
       "       [0.00000000e+00, 0.00000000e+00, 1.19209290e-07]])"
      ]
     },
     "execution_count": 26,
     "metadata": {},
     "output_type": "execute_result"
    }
   ],
   "source": [
    "la.cholesky(B)"
   ]
  }
 ],
 "metadata": {
  "colab": {
   "name": "tarea_01.ipynb",
   "provenance": [],
   "version": "0.3.2"
  },
  "kernelspec": {
   "display_name": "Python 3",
   "language": "python",
   "name": "python3"
  },
  "language_info": {
   "codemirror_mode": {
    "name": "ipython",
    "version": 3
   },
   "file_extension": ".py",
   "mimetype": "text/x-python",
   "name": "python",
   "nbconvert_exporter": "python",
   "pygments_lexer": "ipython3",
   "version": "3.7.3"
  }
 },
 "nbformat": 4,
 "nbformat_minor": 2
}
